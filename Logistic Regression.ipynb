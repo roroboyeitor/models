{
 "cells": [
  {
   "cell_type": "markdown",
   "id": "0f02ea5b-c11d-4dad-a2e6-eab4e1ec2f62",
   "metadata": {},
   "source": [
    "# Logistic Regression"
   ]
  },
  {
   "cell_type": "code",
   "execution_count": 7,
   "id": "2f9d8bf6-fbf4-4508-93da-3ca8371bbe55",
   "metadata": {
    "execution": {
     "iopub.execute_input": "2023-06-24T04:38:42.155996Z",
     "iopub.status.busy": "2023-06-24T04:38:42.155271Z",
     "iopub.status.idle": "2023-06-24T04:38:42.160275Z",
     "shell.execute_reply": "2023-06-24T04:38:42.159116Z",
     "shell.execute_reply.started": "2023-06-24T04:38:42.155967Z"
    },
    "tags": []
   },
   "outputs": [],
   "source": [
    "import numpy as np\n",
    "import matplotlib.pyplot as plt\n",
    "from seaborn import set_style\n",
    "set_style('whitegrid')"
   ]
  },
  {
   "cell_type": "code",
   "execution_count": 11,
   "id": "7e66050b-0581-40c7-865c-c8ea36448f65",
   "metadata": {
    "execution": {
     "iopub.execute_input": "2023-06-24T04:39:23.540987Z",
     "iopub.status.busy": "2023-06-24T04:39:23.540702Z",
     "iopub.status.idle": "2023-06-24T04:39:23.638233Z",
     "shell.execute_reply": "2023-06-24T04:39:23.637866Z",
     "shell.execute_reply.started": "2023-06-24T04:39:23.540959Z"
    },
    "tags": []
   },
   "outputs": [
    {
     "data": {
      "image/png": "[encoded data removed]",
      "text/plain": [
       "<Figure size 600x400 with 1 Axes>"
      ]
     },
     "metadata": {},
     "output_type": "display_data"
    }
   ],
   "source": [
    "def sigmoid(z):\n",
    "    return 1 / (1+np.exp(-z))\n",
    "\n",
    "domain = np.arange(-10, 10, 1)\n",
    "plt.figure(dpi=100)\n",
    "plt.plot(domain, sigmoid(domain))\n",
    "plt.title('Sigmoid function')\n",
    "plt.show()"
   ]
  },
  {
   "cell_type": "markdown",
   "id": "a2e32342-66e7-4f8a-822f-74f0f95b237f",
   "metadata": {},
   "source": [
    "### Linear Regression"
   ]
  },
  {
   "cell_type": "markdown",
   "id": "d8792466-95ea-4f6b-8d79-b05e4b472441",
   "metadata": {},
   "source": [
    "$$J(\\omega) = \\frac{1}{2}\\sum_{k=0}^{n}(x_k\\omega^T - y_k)^2 = \\frac{1}{2} (X\\omega-y)\\cdot(X\\omega-y)$$ \n",
    "$$\\frac{\\partial{J(\\omega)}}{\\partial{\\omega_l}} =\\sum_{k=0}^{n} (x_k\\omega^T - y_k)x_k = (X\\omega-y)\\cdot \\hat{x}_l$$ \n",
    "$$\\nabla J = (X\\omega-y)^T X$$\n",
    "\n",
    "\n",
    "Y si queremos regularización, tenemos que:\n",
    "\n",
    "Lasso\n",
    "$$J(\\omega) = \\sum_{i}|\\omega_i|$$\n",
    "Ridge\n",
    "$$J(\\omega) = \\frac{1}{2}\\sum_{i}\\omega_i^2$$\n",
    "Y Elastic \n",
    "$$J(\\omega) = \\sum_{i}\\rho|\\omega_i| +(1-\\rho)\\frac{1}{2}\\omega_i^2$$"
   ]
  },
  {
   "cell_type": "code",
   "execution_count": 361,
   "id": "ec4889a6-e7c0-4a56-93b8-9e64a41782d7",
   "metadata": {
    "execution": {
     "iopub.execute_input": "2023-06-30T08:13:29.177353Z",
     "iopub.status.busy": "2023-06-30T08:13:29.177089Z",
     "iopub.status.idle": "2023-06-30T08:13:29.196786Z",
     "shell.execute_reply": "2023-06-30T08:13:29.196062Z",
     "shell.execute_reply.started": "2023-06-30T08:13:29.177329Z"
    },
    "tags": []
   },
   "outputs": [],
   "source": [
    "class LinearRegression_Ro:\n",
    "    def __init__(self, mode = 'MiniBatchGD', iterations = 1000, lr = 0.001, batch_size=1000, regularization='Elastic'):\n",
    "        self.mode = mode\n",
    "        self.regularization = regularization\n",
    "        self.iterations = iterations\n",
    "        self.lr = lr\n",
    "        self.batch_size = batch_size\n",
    "        self.W = None\n",
    "        self.b = None\n",
    "        self.J = []\n",
    "        self.Ws = []\n",
    "    \n",
    "    def fit(self, X, y):\n",
    "        N = X.shape[0]\n",
    "        D = X.shape[1]\n",
    "        \n",
    "        self.W = np.random.normal(0, 1, size=(D,1))\n",
    "        self.Ws.append(self.W)\n",
    "        \n",
    "        if self.mode == 'MiniBatch':\n",
    "            data = np.concatenate((X,y), axis=1)\n",
    "            np.random.shuffle(data)\n",
    "            \n",
    "            for i in range(self.iterations):\n",
    "                #batch = #shuffle batch and y \n",
    "                batch = data[:self.batch_size]\n",
    "                X_batch = batch[:,:-1]\n",
    "                y_batch = batch[:,-1:]\n",
    "                self.W+= -self.lr*(X_batch.dot(self.W) - y_batch).T.dot(X_batch).T\n",
    "                np.random.shuffle(data)\n",
    "                self.Ws.append(self.W)\n",
    "        \n",
    "        elif self.mode == 'SGD':\n",
    "            data = np.concatenate((X,y), axis=1)\n",
    "            \n",
    "            for i in range(self.iterations):\n",
    "                random_index = np.random.choice(range(len(data)))\n",
    "                X_row = data[random_index:random_index+1,:-1]\n",
    "                y_row = data[random_index:random_index+1,-1:]\n",
    "                #batch = #shuffle batch and y \n",
    "                self.W+= -self.lr*(X_row.dot(self.W) - y_row).T.dot(X_row).T\n",
    "                self.Ws.append(self.W)\n",
    "                \n",
    "        elif self.mode == 'Batch':\n",
    "            for i in range(self.iterations):\n",
    "                self.W+= -self.lr*(X.dot(self.W) - y).T.dot(X).T\n",
    "                print(self.Ws)\n",
    "                self.Ws.append(self.W)\n",
    "                inc = np.linalg.norm((self.Ws[-1]-self.Ws[-2])/self.Ws[-2])\n",
    "                \n",
    "                if inc < .00005:\n",
    "                    break\n",
    "        elif self.mode == 'Closed':\n",
    "            self.W = np.linalg.inv(X.T.dot(X)).dot(X.T).dot(y)\n",
    "        else:\n",
    "            raise('Error: Method not admited')"
   ]
  },
  {
   "cell_type": "code",
   "execution_count": 362,
   "id": "be7f088b-8cad-4d9b-86b1-fe42f0ee7780",
   "metadata": {
    "execution": {
     "iopub.execute_input": "2023-06-30T08:13:34.123281Z",
     "iopub.status.busy": "2023-06-30T08:13:34.122440Z",
     "iopub.status.idle": "2023-06-30T08:13:35.161316Z",
     "shell.execute_reply": "2023-06-30T08:13:35.160954Z",
     "shell.execute_reply.started": "2023-06-30T08:13:34.123239Z"
    },
    "tags": []
   },
   "outputs": [
    {
     "name": "stdout",
     "output_type": "stream",
     "text": [
      "Closed\n",
      "[[1.00082248]\n",
      " [1.99358544]]\n",
      "\n",
      "Mini\n",
      "[[1.00082248]\n",
      " [1.99358544]]\n",
      "\n",
      "SGD\n",
      "[[0.97757108]\n",
      " [2.01606476]]\n",
      "[array([[2.29099027],\n",
      "       [3.47545899]])]\n",
      "\n",
      "Batch\n",
      "[[2.29099027]\n",
      " [3.47545899]]\n"
     ]
    }
   ],
   "source": [
    "X_train = np.random.rand(1000,2)\n",
    "W_real = np.array([[1],[2]])\n",
    "y_train = X_train.dot(W_real)+np.random.normal(scale=0.1, size=(1000,1))\n",
    "\n",
    "model = LinearRegression_Ro(mode='Closed')\n",
    "model.fit(X_train, y_train)\n",
    "print('Closed')\n",
    "print(model.W)\n",
    "\n",
    "model = LinearRegression_Ro(iterations=1000, lr=.003, mode='MiniBatch')\n",
    "model.fit(X_train, y_train)\n",
    "print('\\nMini')\n",
    "print(model.W)\n",
    "\n",
    "model = LinearRegression_Ro(iterations=10000, lr=.003, mode='SGD')\n",
    "model.fit(X_train, y_train)\n",
    "print('\\nSGD')\n",
    "print(model.W)\n",
    "\n",
    "model = LinearRegression_Ro(iterations=10000, lr=.003, mode='Batch')\n",
    "model.fit(X_train, y_train)\n",
    "print('\\nBatch')\n",
    "print(model.W)"
   ]
  },
  {
   "cell_type": "code",
   "execution_count": 346,
   "id": "0428d437-f7ff-485b-91bb-df1d6e189fca",
   "metadata": {
    "execution": {
     "iopub.execute_input": "2023-06-27T14:31:48.648794Z",
     "iopub.status.busy": "2023-06-27T14:31:48.648496Z",
     "iopub.status.idle": "2023-06-27T14:31:48.653939Z",
     "shell.execute_reply": "2023-06-27T14:31:48.652903Z",
     "shell.execute_reply.started": "2023-06-27T14:31:48.648769Z"
    },
    "tags": []
   },
   "outputs": [
    {
     "data": {
      "text/plain": [
       "'BatchGD'"
      ]
     },
     "execution_count": 346,
     "metadata": {},
     "output_type": "execute_result"
    }
   ],
   "source": [
    "model.mode"
   ]
  },
  {
   "cell_type": "code",
   "execution_count": 307,
   "id": "5ddd8fdc-e300-41c5-8621-b7e0b5def659",
   "metadata": {
    "execution": {
     "iopub.execute_input": "2023-06-27T14:12:33.757748Z",
     "iopub.status.busy": "2023-06-27T14:12:33.757459Z",
     "iopub.status.idle": "2023-06-27T14:12:33.763093Z",
     "shell.execute_reply": "2023-06-27T14:12:33.761620Z",
     "shell.execute_reply.started": "2023-06-27T14:12:33.757720Z"
    },
    "tags": []
   },
   "outputs": [],
   "source": [
    "from sklearn.linear_model import LinearRegression"
   ]
  },
  {
   "cell_type": "code",
   "execution_count": 308,
   "id": "4062367d-b5b6-46b5-a761-44f313854d16",
   "metadata": {
    "execution": {
     "iopub.execute_input": "2023-06-27T14:12:34.035702Z",
     "iopub.status.busy": "2023-06-27T14:12:34.035432Z",
     "iopub.status.idle": "2023-06-27T14:12:34.042922Z",
     "shell.execute_reply": "2023-06-27T14:12:34.042174Z",
     "shell.execute_reply.started": "2023-06-27T14:12:34.035678Z"
    },
    "tags": []
   },
   "outputs": [
    {
     "data": {
      "text/plain": [
       "array([[0.99106245, 1.98468348]])"
      ]
     },
     "execution_count": 308,
     "metadata": {},
     "output_type": "execute_result"
    }
   ],
   "source": [
    "model = LinearRegression()\n",
    "#y_train = np.random.choice([0,1], size = (100,1))\n",
    "model.fit(X_train, y_train)\n",
    "model.coef_"
   ]
  },
  {
   "cell_type": "markdown",
   "id": "d6c5402a-711b-42d7-913e-e8ff922c36be",
   "metadata": {},
   "source": [
    "### Logistic Regression "
   ]
  },
  {
   "cell_type": "markdown",
   "id": "b5e4e489-fc8b-4f70-bf28-268c347e98bf",
   "metadata": {},
   "source": [
    "$$J(\\omega) = \\frac{1}{2}\\sum_{k=0}^{n}(x_k\\omega^T - y_k)^2 = \\frac{1}{2} (X\\omega-y)\\cdot(X\\omega-y)$$ \n",
    "$$\\frac{\\partial{J(\\omega)}}{\\partial{\\omega_l}} =\\sum_{k=0}^{n} (x_k\\omega^T - y_k)x_k = (X\\omega-y)\\cdot \\hat{x}_l$$ \n",
    "$$\\nabla J = (X\\omega-y)^T X$$"
   ]
  },
  {
   "cell_type": "code",
   "execution_count": null,
   "id": "3ac3deaf-0c3d-4c75-965d-c5ac85c6e2f6",
   "metadata": {},
   "outputs": [],
   "source": []
  }
 ],
 "metadata": {
  "kernelspec": {
   "display_name": "Python 3 (ipykernel)",
   "language": "python",
   "name": "python3"
  },
  "language_info": {
   "codemirror_mode": {
    "name": "ipython",
    "version": 3
   },
   "file_extension": ".py",
   "mimetype": "text/x-python",
   "name": "python",
   "nbconvert_exporter": "python",
   "pygments_lexer": "ipython3",
   "version": "3.9.7"
  }
 },
 "nbformat": 4,
 "nbformat_minor": 5
}
