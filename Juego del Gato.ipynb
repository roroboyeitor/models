{
 "cells": [
  {
   "cell_type": "markdown",
   "metadata": {
    "application/vnd.databricks.v1+cell": {
     "inputWidgets": {},
     "nuid": "cdfe6c70-fd11-43f8-8a66-4a243a56a769",
     "showTitle": false,
     "title": ""
    }
   },
   "source": [
    "# Juego del gato"
   ]
  },
  {
   "cell_type": "markdown",
   "metadata": {
    "application/vnd.databricks.v1+cell": {
     "inputWidgets": {},
     "nuid": "2327487c-5669-473f-b99a-e7de9b554396",
     "showTitle": false,
     "title": ""
    }
   },
   "source": [
    "## Librerías"
   ]
  },
  {
   "cell_type": "code",
   "execution_count": 1,
   "metadata": {
    "application/vnd.databricks.v1+cell": {
     "inputWidgets": {},
     "nuid": "8d1354c8-354c-4be2-9d0c-56c07cdac7e6",
     "showTitle": false,
     "title": ""
    },
    "execution": {
     "iopub.execute_input": "2023-06-14T17:08:43.985603Z",
     "iopub.status.busy": "2023-06-14T17:08:43.985274Z",
     "iopub.status.idle": "2023-06-14T17:08:45.753709Z",
     "shell.execute_reply": "2023-06-14T17:08:45.753384Z",
     "shell.execute_reply.started": "2023-06-14T17:08:43.985526Z"
    },
    "tags": []
   },
   "outputs": [],
   "source": [
    "import numpy as np #librería para manipular arreglos de números y hacer operaciones sobre ellos\n",
    "import pandas as pd #librería para manejar \"bases de datos\" en python (el pan de cada día para 100cia de datos)\n",
    "import matplotlib.pyplot as plt #librearía para graficar\n",
    "import seaborn as sns #librería para graficar un poco más alto que matplotlib"
   ]
  },
  {
   "cell_type": "code",
   "execution_count": 2,
   "metadata": {
    "execution": {
     "iopub.execute_input": "2023-06-14T17:08:46.554915Z",
     "iopub.status.busy": "2023-06-14T17:08:46.554616Z",
     "iopub.status.idle": "2023-06-14T17:08:46.558804Z",
     "shell.execute_reply": "2023-06-14T17:08:46.557590Z",
     "shell.execute_reply.started": "2023-06-14T17:08:46.554889Z"
    }
   },
   "outputs": [],
   "source": [
    "#explicar np.isin y filtros de arrays a[b]"
   ]
  },
  {
   "cell_type": "code",
   "execution_count": 3,
   "metadata": {
    "execution": {
     "iopub.execute_input": "2023-06-14T17:08:46.939029Z",
     "iopub.status.busy": "2023-06-14T17:08:46.938760Z",
     "iopub.status.idle": "2023-06-14T17:08:46.946618Z",
     "shell.execute_reply": "2023-06-14T17:08:46.945484Z",
     "shell.execute_reply.started": "2023-06-14T17:08:46.939006Z"
    },
    "tags": []
   },
   "outputs": [
    {
     "data": {
      "text/plain": [
       "[1, 5, 7, 9, 0]"
      ]
     },
     "execution_count": 3,
     "metadata": {},
     "output_type": "execute_result"
    }
   ],
   "source": [
    "[1, 5, 7, 9, 0]"
   ]
  },
  {
   "cell_type": "code",
   "execution_count": 4,
   "metadata": {
    "execution": {
     "iopub.execute_input": "2023-06-14T17:08:50.236066Z",
     "iopub.status.busy": "2023-06-14T17:08:50.235775Z",
     "iopub.status.idle": "2023-06-14T17:08:50.251429Z",
     "shell.execute_reply": "2023-06-14T17:08:50.250798Z",
     "shell.execute_reply.started": "2023-06-14T17:08:50.236043Z"
    },
    "tags": []
   },
   "outputs": [],
   "source": [
    "class Gato():\n",
    "    \"Juego del gato\"\n",
    "    def __init__(self):\n",
    "        self.used_positions = []\n",
    "        self.won = False\n",
    "    \n",
    "    def return_available_actions(self):\n",
    "        available_filter = ~np.isin(range(1,10), self.used_positions)\n",
    "        available = np.array(range(1,10))[available_filter]\n",
    "        return available\n",
    "    \n",
    "    def someone_won(self, positions):\n",
    "        won = False\n",
    "        winning_combinations = [[1,2,3], [4,5,6], [7,8,9], \n",
    "                                [1,4,7], [2,5,8], [3,6,9],\n",
    "                                [1,5,9], [7,5,3]\n",
    "                               ]\n",
    "        for combination in winning_combinations:\n",
    "            if np.isin(positions, combination).sum() == 3:\n",
    "                won = True\n",
    "        self.won = won\n",
    "        return won\n",
    "    \n",
    "        \n",
    "    \n",
    "    def is_over(self):\n",
    "        if self.won:\n",
    "            return True\n",
    "        else:\n",
    "            return len(self.used_positions)==9\n",
    "            \n",
    "    def reset(self):\n",
    "        self.used_positions = []\n",
    "\n",
    "class Player():\n",
    "    def __init__(self, env, debug = False):\n",
    "        \n",
    "        self.env = env\n",
    "        self.current_state = [0,0,0,0,0]\n",
    "        self.observations = []\n",
    "        self.actions = []\n",
    "        self.rewards = []\n",
    "        \n",
    "        self.debug = debug\n",
    "    \n",
    "    def take_step(self):\n",
    "        available_positions = self.env.return_available_actions()\n",
    "        if self.debug:\n",
    "            print(f'Available: {available_positions}')\n",
    "        #########policy###########\n",
    "        action = np.random.choice(available_positions)\n",
    "        if self.debug:\n",
    "            print(f'Action chosen: {action}')\n",
    "        ##########################\n",
    "        self.observations.append(list(np.copy(self.current_state)))\n",
    "        self.current_state[len(self.actions)] = action\n",
    "        self.actions.append(action)\n",
    "        \n",
    "        self.env.used_positions.append(action)\n",
    "        reward = self.env.someone_won(self.current_state)\n",
    "        self.rewards.append(reward)\n",
    "        if reward:\n",
    "            if self.debug:\n",
    "                print('Won!')\n",
    "        pass"
   ]
  },
  {
   "cell_type": "code",
   "execution_count": 19,
   "metadata": {
    "execution": {
     "iopub.execute_input": "2023-06-14T20:13:58.322799Z",
     "iopub.status.busy": "2023-06-14T20:13:58.321360Z",
     "iopub.status.idle": "2023-06-14T20:13:58.336316Z",
     "shell.execute_reply": "2023-06-14T20:13:58.335597Z",
     "shell.execute_reply.started": "2023-06-14T20:13:58.322733Z"
    }
   },
   "outputs": [],
   "source": [
    "###chatGPT optimization\n",
    "\n",
    "class Gato():\n",
    "    \"Juego del gato\"\n",
    "    def __init__(self):\n",
    "        self.used_positions = []\n",
    "    \n",
    "    def return_available_actions(self):\n",
    "        available_filter = ~np.isin(range(1, 10), self.used_positions)\n",
    "        available = np.array(range(1, 10))[available_filter]\n",
    "        return available\n",
    "    \n",
    "    def someone_won(self, positions):\n",
    "        winning_combinations = [[1, 2, 3], [4, 5, 6], [7, 8, 9],\n",
    "                                [1, 4, 7], [2, 5, 8], [3, 6, 9],\n",
    "                                [1, 5, 9], [7, 5, 3]\n",
    "                               ]\n",
    "        for combination in winning_combinations:\n",
    "            if np.isin(positions, combination).sum() == 3:\n",
    "                return True\n",
    "        return False\n",
    "    \n",
    "    def is_over(self):\n",
    "        return self.someone_won(self.used_positions) or len(self.used_positions) == 9\n",
    "\n",
    "    \n",
    "class Player():\n",
    "    def __init__(self, env, debug=False):\n",
    "        self.env = env\n",
    "        self.current_state = [0, 0, 0, 0, 0]\n",
    "        self.actions = []\n",
    "        self.rewards = []\n",
    "        self.debug = debug\n",
    "    \n",
    "    def take_step(self):\n",
    "        available_positions = self.env.return_available_actions()\n",
    "        if self.debug:\n",
    "            print(f'Available: {available_positions}')\n",
    "        action = np.random.choice(available_positions)\n",
    "        if self.debug:\n",
    "            print(f'Action chosen: {action}')\n",
    "        self.current_state[len(self.actions)] = action\n",
    "        self.actions.append(action)\n",
    "        self.env.used_positions.append(action)\n",
    "        reward = self.env.someone_won(self.current_state)\n",
    "        self.rewards.append(reward)\n",
    "        if reward and self.debug:\n",
    "            print('Won!')\n"
   ]
  },
  {
   "cell_type": "code",
   "execution_count": 8,
   "metadata": {
    "execution": {
     "iopub.execute_input": "2023-06-14T17:09:21.522190Z",
     "iopub.status.busy": "2023-06-14T17:09:21.521832Z",
     "iopub.status.idle": "2023-06-14T17:09:33.987411Z",
     "shell.execute_reply": "2023-06-14T17:09:33.987178Z",
     "shell.execute_reply.started": "2023-06-14T17:09:21.522134Z"
    },
    "tags": []
   },
   "outputs": [],
   "source": [
    "runs = []\n",
    "run_id = 0\n",
    "for i in range(10000):\n",
    "    gato = Gato()\n",
    "    player_1 = Player(gato, debug=False)\n",
    "    player_2 = Player(gato, debug=False)\n",
    "    players = [(player_1,1), (player_2,2)]\n",
    "    won = gato.won\n",
    "    turn = 0\n",
    "    i=0\n",
    "    while not gato.is_over():\n",
    "        player = players[turn][0]\n",
    "        #print(f'Player {players[turn][1]}')\n",
    "        player.take_step()\n",
    "        turn += (-1)**i\n",
    "        i +=1\n",
    "    X_1 = pd.DataFrame(np.array(player_1.observations)[:,:-1], columns=[f'step_{i}' for i in range(1,5)])\n",
    "    y_1 = pd.DataFrame(np.array(player_1.actions).reshape(-1,1), columns = ['action'])\n",
    "    rewards_1 = pd.DataFrame(np.array(player_1.rewards).astype(int).reshape(-1,1), columns=['rewards'])\n",
    "    agent_1_id = pd.DataFrame(np.array([1]*len(player_1.actions)).astype(int).reshape(-1,1), columns=['agent_id'])\n",
    "    data_1 = pd.concat((agent_1_id,X_1,y_1,rewards_1), axis = 1)\n",
    "    X_2 = pd.DataFrame(np.array(player_2.observations)[:,:-1], columns=[f'step_{i}' for i in range(1,5)])\n",
    "    y_2 = pd.DataFrame(np.array(player_2.actions).reshape(-1,1), columns = ['action'])\n",
    "    rewards_2 = pd.DataFrame(np.array(player_2.rewards).astype(int).reshape(-1,1), columns=['rewards'])\n",
    "    agent_2_id = pd.DataFrame(np.array([2]*len(player_2.actions)).astype(int).reshape(-1,1), columns=['agent_id'])\n",
    "    data_2 = pd.concat((agent_2_id,X_2,y_2,rewards_2), axis = 1)\n",
    "    run_data = pd.concat((data_1, data_2), ignore_index=True)\n",
    "    run_ids = pd.DataFrame(np.array([run_id]*len(run_data)).astype(int).reshape(-1,1), columns=['run_id'])\n",
    "    run_data = pd.concat((run_ids,run_data), axis=1)\n",
    "    runs.append(run_data)\n",
    "    run_id += 1"
   ]
  },
  {
   "cell_type": "code",
   "execution_count": 9,
   "metadata": {
    "execution": {
     "iopub.execute_input": "2023-06-14T17:09:34.985921Z",
     "iopub.status.busy": "2023-06-14T17:09:34.985633Z",
     "iopub.status.idle": "2023-06-14T17:09:35.589286Z",
     "shell.execute_reply": "2023-06-14T17:09:35.588940Z",
     "shell.execute_reply.started": "2023-06-14T17:09:34.985897Z"
    },
    "tags": []
   },
   "outputs": [
    {
     "data": {
      "text/html": [
       "<div>\n",
       "<style scoped>\n",
       "    .dataframe tbody tr th:only-of-type {\n",
       "        vertical-align: middle;\n",
       "    }\n",
       "\n",
       "    .dataframe tbody tr th {\n",
       "        vertical-align: top;\n",
       "    }\n",
       "\n",
       "    .dataframe thead th {\n",
       "        text-align: right;\n",
       "    }\n",
       "</style>\n",
       "<table border=\"1\" class=\"dataframe\">\n",
       "  <thead>\n",
       "    <tr style=\"text-align: right;\">\n",
       "      <th></th>\n",
       "      <th>run_id</th>\n",
       "      <th>agent_id</th>\n",
       "      <th>step_1</th>\n",
       "      <th>step_2</th>\n",
       "      <th>step_3</th>\n",
       "      <th>step_4</th>\n",
       "      <th>action</th>\n",
       "      <th>rewards</th>\n",
       "      <th>id</th>\n",
       "    </tr>\n",
       "  </thead>\n",
       "  <tbody>\n",
       "    <tr>\n",
       "      <th>0</th>\n",
       "      <td>0</td>\n",
       "      <td>1</td>\n",
       "      <td>0</td>\n",
       "      <td>0</td>\n",
       "      <td>0</td>\n",
       "      <td>0</td>\n",
       "      <td>2</td>\n",
       "      <td>0</td>\n",
       "      <td>0_1</td>\n",
       "    </tr>\n",
       "    <tr>\n",
       "      <th>1</th>\n",
       "      <td>0</td>\n",
       "      <td>1</td>\n",
       "      <td>2</td>\n",
       "      <td>0</td>\n",
       "      <td>0</td>\n",
       "      <td>0</td>\n",
       "      <td>5</td>\n",
       "      <td>0</td>\n",
       "      <td>0_1</td>\n",
       "    </tr>\n",
       "    <tr>\n",
       "      <th>2</th>\n",
       "      <td>0</td>\n",
       "      <td>1</td>\n",
       "      <td>2</td>\n",
       "      <td>5</td>\n",
       "      <td>0</td>\n",
       "      <td>0</td>\n",
       "      <td>1</td>\n",
       "      <td>0</td>\n",
       "      <td>0_1</td>\n",
       "    </tr>\n",
       "    <tr>\n",
       "      <th>3</th>\n",
       "      <td>0</td>\n",
       "      <td>1</td>\n",
       "      <td>2</td>\n",
       "      <td>5</td>\n",
       "      <td>1</td>\n",
       "      <td>0</td>\n",
       "      <td>7</td>\n",
       "      <td>0</td>\n",
       "      <td>0_1</td>\n",
       "    </tr>\n",
       "    <tr>\n",
       "      <th>4</th>\n",
       "      <td>0</td>\n",
       "      <td>1</td>\n",
       "      <td>2</td>\n",
       "      <td>5</td>\n",
       "      <td>1</td>\n",
       "      <td>7</td>\n",
       "      <td>3</td>\n",
       "      <td>1</td>\n",
       "      <td>0_1</td>\n",
       "    </tr>\n",
       "  </tbody>\n",
       "</table>\n",
       "</div>"
      ],
      "text/plain": [
       "   run_id  agent_id  step_1  step_2  step_3  step_4  action  rewards   id\n",
       "0       0         1       0       0       0       0       2        0  0_1\n",
       "1       0         1       2       0       0       0       5        0  0_1\n",
       "2       0         1       2       5       0       0       1        0  0_1\n",
       "3       0         1       2       5       1       0       7        0  0_1\n",
       "4       0         1       2       5       1       7       3        1  0_1"
      ]
     },
     "execution_count": 9,
     "metadata": {},
     "output_type": "execute_result"
    }
   ],
   "source": [
    "data = pd.concat(runs, ignore_index=True)\n",
    "data.loc[:,['id']] = data.run_id.astype(str)+'_'+data.agent_id.astype(str)\n",
    "data.head()"
   ]
  },
  {
   "cell_type": "code",
   "execution_count": 10,
   "metadata": {
    "execution": {
     "iopub.execute_input": "2023-06-14T17:09:38.816428Z",
     "iopub.status.busy": "2023-06-14T17:09:38.816148Z",
     "iopub.status.idle": "2023-06-14T17:09:38.830836Z",
     "shell.execute_reply": "2023-06-14T17:09:38.830217Z",
     "shell.execute_reply.started": "2023-06-14T17:09:38.816405Z"
    },
    "tags": []
   },
   "outputs": [
    {
     "data": {
      "text/plain": [
       "agent_id\n",
       "1    0.67\n",
       "2    0.33\n",
       "Name: proportion, dtype: float64"
      ]
     },
     "execution_count": 10,
     "metadata": {},
     "output_type": "execute_result"
    }
   ],
   "source": [
    "#en el límite, la proporción es 66-33\n",
    "data.loc[data.rewards==1,['run_id','agent_id']].drop_duplicates()\\\n",
    "    .agent_id.value_counts(normalize=True).round(2)"
   ]
  },
  {
   "cell_type": "code",
   "execution_count": 11,
   "metadata": {
    "execution": {
     "iopub.execute_input": "2023-06-14T17:09:43.994480Z",
     "iopub.status.busy": "2023-06-14T17:09:43.994163Z",
     "iopub.status.idle": "2023-06-14T17:09:44.023211Z",
     "shell.execute_reply": "2023-06-14T17:09:44.022648Z",
     "shell.execute_reply.started": "2023-06-14T17:09:43.994456Z"
    },
    "tags": []
   },
   "outputs": [
    {
     "data": {
      "text/html": [
       "<div>\n",
       "<style scoped>\n",
       "    .dataframe tbody tr th:only-of-type {\n",
       "        vertical-align: middle;\n",
       "    }\n",
       "\n",
       "    .dataframe tbody tr th {\n",
       "        vertical-align: top;\n",
       "    }\n",
       "\n",
       "    .dataframe thead th {\n",
       "        text-align: right;\n",
       "    }\n",
       "</style>\n",
       "<table border=\"1\" class=\"dataframe\">\n",
       "  <thead>\n",
       "    <tr style=\"text-align: right;\">\n",
       "      <th></th>\n",
       "      <th>run_id</th>\n",
       "      <th>agent_id</th>\n",
       "      <th>step_1</th>\n",
       "      <th>step_2</th>\n",
       "      <th>step_3</th>\n",
       "      <th>step_4</th>\n",
       "      <th>action</th>\n",
       "      <th>rewards</th>\n",
       "      <th>id</th>\n",
       "    </tr>\n",
       "  </thead>\n",
       "  <tbody>\n",
       "    <tr>\n",
       "      <th>0</th>\n",
       "      <td>0</td>\n",
       "      <td>1</td>\n",
       "      <td>0</td>\n",
       "      <td>0</td>\n",
       "      <td>0</td>\n",
       "      <td>0</td>\n",
       "      <td>2</td>\n",
       "      <td>0</td>\n",
       "      <td>0_1</td>\n",
       "    </tr>\n",
       "    <tr>\n",
       "      <th>1</th>\n",
       "      <td>0</td>\n",
       "      <td>1</td>\n",
       "      <td>2</td>\n",
       "      <td>0</td>\n",
       "      <td>0</td>\n",
       "      <td>0</td>\n",
       "      <td>5</td>\n",
       "      <td>0</td>\n",
       "      <td>0_1</td>\n",
       "    </tr>\n",
       "    <tr>\n",
       "      <th>2</th>\n",
       "      <td>0</td>\n",
       "      <td>1</td>\n",
       "      <td>2</td>\n",
       "      <td>5</td>\n",
       "      <td>0</td>\n",
       "      <td>0</td>\n",
       "      <td>1</td>\n",
       "      <td>0</td>\n",
       "      <td>0_1</td>\n",
       "    </tr>\n",
       "    <tr>\n",
       "      <th>3</th>\n",
       "      <td>0</td>\n",
       "      <td>1</td>\n",
       "      <td>2</td>\n",
       "      <td>5</td>\n",
       "      <td>1</td>\n",
       "      <td>0</td>\n",
       "      <td>7</td>\n",
       "      <td>0</td>\n",
       "      <td>0_1</td>\n",
       "    </tr>\n",
       "    <tr>\n",
       "      <th>4</th>\n",
       "      <td>0</td>\n",
       "      <td>1</td>\n",
       "      <td>2</td>\n",
       "      <td>5</td>\n",
       "      <td>1</td>\n",
       "      <td>7</td>\n",
       "      <td>3</td>\n",
       "      <td>1</td>\n",
       "      <td>0_1</td>\n",
       "    </tr>\n",
       "  </tbody>\n",
       "</table>\n",
       "</div>"
      ],
      "text/plain": [
       "   run_id  agent_id  step_1  step_2  step_3  step_4  action  rewards   id\n",
       "0       0         1       0       0       0       0       2        0  0_1\n",
       "1       0         1       2       0       0       0       5        0  0_1\n",
       "2       0         1       2       5       0       0       1        0  0_1\n",
       "3       0         1       2       5       1       0       7        0  0_1\n",
       "4       0         1       2       5       1       7       3        1  0_1"
      ]
     },
     "execution_count": 11,
     "metadata": {},
     "output_type": "execute_result"
    }
   ],
   "source": [
    "winning_ids = data.loc[data.rewards==1,['id']].id.unique()\n",
    "data = data.loc[data.id.isin(winning_ids)]\n",
    "data.head()"
   ]
  },
  {
   "cell_type": "code",
   "execution_count": 12,
   "metadata": {
    "execution": {
     "iopub.execute_input": "2023-06-14T17:09:44.638902Z",
     "iopub.status.busy": "2023-06-14T17:09:44.638612Z",
     "iopub.status.idle": "2023-06-14T17:09:44.645272Z",
     "shell.execute_reply": "2023-06-14T17:09:44.644262Z",
     "shell.execute_reply.started": "2023-06-14T17:09:44.638878Z"
    },
    "tags": []
   },
   "outputs": [],
   "source": [
    "X = data.loc[:,['step_1','step_2','step_3','step_4']]\n",
    "y = data.action"
   ]
  },
  {
   "cell_type": "code",
   "execution_count": 13,
   "metadata": {
    "execution": {
     "iopub.execute_input": "2023-06-14T17:09:46.154318Z",
     "iopub.status.busy": "2023-06-14T17:09:46.153983Z",
     "iopub.status.idle": "2023-06-14T17:09:46.521104Z",
     "shell.execute_reply": "2023-06-14T17:09:46.520857Z",
     "shell.execute_reply.started": "2023-06-14T17:09:46.154292Z"
    },
    "tags": []
   },
   "outputs": [],
   "source": [
    "from sklearn.ensemble import GradientBoostingClassifier"
   ]
  },
  {
   "cell_type": "code",
   "execution_count": 14,
   "metadata": {
    "execution": {
     "iopub.execute_input": "2023-06-14T17:09:46.911431Z",
     "iopub.status.busy": "2023-06-14T17:09:46.911025Z",
     "iopub.status.idle": "2023-06-14T17:09:46.914984Z",
     "shell.execute_reply": "2023-06-14T17:09:46.914289Z",
     "shell.execute_reply.started": "2023-06-14T17:09:46.911406Z"
    },
    "tags": []
   },
   "outputs": [],
   "source": [
    "model = GradientBoostingClassifier()"
   ]
  },
  {
   "cell_type": "code",
   "execution_count": 15,
   "metadata": {
    "execution": {
     "iopub.execute_input": "2023-06-14T17:09:47.892092Z",
     "iopub.status.busy": "2023-06-14T17:09:47.891774Z",
     "iopub.status.idle": "2023-06-14T17:09:56.022627Z",
     "shell.execute_reply": "2023-06-14T17:09:56.022402Z",
     "shell.execute_reply.started": "2023-06-14T17:09:47.892064Z"
    },
    "tags": []
   },
   "outputs": [
    {
     "data": {
      "text/plain": [
       "GradientBoostingClassifier()"
      ]
     },
     "execution_count": 15,
     "metadata": {},
     "output_type": "execute_result"
    }
   ],
   "source": [
    "model.fit(X,y)"
   ]
  },
  {
   "cell_type": "code",
   "execution_count": 16,
   "metadata": {
    "execution": {
     "iopub.execute_input": "2023-06-14T17:09:57.296520Z",
     "iopub.status.busy": "2023-06-14T17:09:57.295892Z",
     "iopub.status.idle": "2023-06-14T17:09:57.307623Z",
     "shell.execute_reply": "2023-06-14T17:09:57.306877Z",
     "shell.execute_reply.started": "2023-06-14T17:09:57.296465Z"
    },
    "tags": []
   },
   "outputs": [
    {
     "data": {
      "text/plain": [
       "array([0.37887006, 0.3415805 , 0.21688985, 0.06265959])"
      ]
     },
     "execution_count": 16,
     "metadata": {},
     "output_type": "execute_result"
    }
   ],
   "source": [
    "model.feature_importances_"
   ]
  },
  {
   "cell_type": "code",
   "execution_count": 18,
   "metadata": {
    "execution": {
     "iopub.execute_input": "2023-06-14T17:10:38.408094Z",
     "iopub.status.busy": "2023-06-14T17:10:38.407806Z",
     "iopub.status.idle": "2023-06-14T17:10:38.417307Z",
     "shell.execute_reply": "2023-06-14T17:10:38.416517Z",
     "shell.execute_reply.started": "2023-06-14T17:10:38.408070Z"
    },
    "tags": []
   },
   "outputs": [
    {
     "data": {
      "text/plain": [
       "array([[0.01, 0.11, 0.13, 0.12, 0.15, 0.1 , 0.13, 0.1 , 0.15]])"
      ]
     },
     "execution_count": 18,
     "metadata": {},
     "output_type": "execute_result"
    }
   ],
   "source": [
    "test = pd.DataFrame([[1,0,0,0]], columns=X.columns)\n",
    "model.predict_proba(test).round(2)"
   ]
  },
  {
   "cell_type": "markdown",
   "metadata": {
    "execution": {
     "iopub.execute_input": "2022-09-09T01:30:02.821663Z",
     "iopub.status.busy": "2022-09-09T01:30:02.821353Z",
     "iopub.status.idle": "2022-09-09T01:30:02.827512Z",
     "shell.execute_reply": "2022-09-09T01:30:02.825154Z",
     "shell.execute_reply.started": "2022-09-09T01:30:02.821637Z"
    }
   },
   "source": [
    "$$\n",
    "\\begin{pmatrix}\n",
    "1 & 2 & 3 \\\\ 4 & 5 & 6 \\\\ 7 & 8 & 9 \n",
    "\\end{pmatrix}\n",
    "$$\n"
   ]
  }
 ],
 "metadata": {
  "application/vnd.databricks.v1+notebook": {
   "dashboards": [],
   "language": "python",
   "notebookMetadata": {
    "pythonIndentUnit": 4
   },
   "notebookName": "1.  Agente Vacuum World",
   "notebookOrigID": 3337149576738727,
   "widgets": {}
  },
  "colab": {
   "collapsed_sections": [],
   "name": "01 Agentes: Mundo_aspiradora.ipynb",
   "provenance": []
  },
  "kernelspec": {
   "display_name": "Python 3 (ipykernel)",
   "language": "python",
   "name": "python3"
  },
  "language_info": {
   "codemirror_mode": {
    "name": "ipython",
    "version": 3
   },
   "file_extension": ".py",
   "mimetype": "text/x-python",
   "name": "python",
   "nbconvert_exporter": "python",
   "pygments_lexer": "ipython3",
   "version": "3.9.7"
  }
 },
 "nbformat": 4,
 "nbformat_minor": 4
}
